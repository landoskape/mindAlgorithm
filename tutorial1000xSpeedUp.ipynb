{
 "cells": [
  {
   "cell_type": "code",
   "execution_count": 11,
   "id": "d945b8f2-1e54-4af6-8ed6-702bfa8fecaf",
   "metadata": {},
   "outputs": [],
   "source": [
    "# inclusions\n",
    "import numpy as np\n",
    "import matplotlib.pyplot as plt\n",
    "import random\n",
    "from numba import jit, njit, types, vectorize"
   ]
  },
  {
   "cell_type": "code",
   "execution_count": 12,
   "id": "a8541b49-978e-4daf-9850-ff061ebdeff4",
   "metadata": {},
   "outputs": [],
   "source": [
    "@jit(nopython=True)\n",
    "def monte_carlo_pi(nsamples):\n",
    "    acc = 0\n",
    "    for i in range(nsamples):\n",
    "        x = random.random()\n",
    "        y = random.random()\n",
    "        if (x ** 2 + y ** 2) < 1.0:\n",
    "            acc += 1\n",
    "    return 4.0 * acc / nsamples\n",
    "\n",
    "def monte_carlo_pi_no_numba(nsamples):\n",
    "    acc = 0\n",
    "    for i in range(nsamples):\n",
    "        x = random.random()\n",
    "        y = random.random()\n",
    "        if (x ** 2 + y ** 2) < 1.0:\n",
    "            acc += 1\n",
    "    return 4.0 * acc / nsamples"
   ]
  },
  {
   "cell_type": "code",
   "execution_count": 13,
   "id": "ad450d06-26af-4c12-bcab-a261b4f3fdd0",
   "metadata": {},
   "outputs": [
    {
     "name": "stdout",
     "output_type": "stream",
     "text": [
      "CPU times: total: 0 ns\n",
      "Wall time: 3.99 ms\n"
     ]
    },
    {
     "data": {
      "text/plain": [
       "3.1576"
      ]
     },
     "execution_count": 13,
     "metadata": {},
     "output_type": "execute_result"
    }
   ],
   "source": [
    "%time monte_carlo_pi_no_numba(10000)"
   ]
  },
  {
   "cell_type": "code",
   "execution_count": 18,
   "id": "cbfafa91-a562-48f3-8afe-9cad349baa36",
   "metadata": {},
   "outputs": [
    {
     "name": "stdout",
     "output_type": "stream",
     "text": [
      "CPU times: total: 0 ns\n",
      "Wall time: 0 ns\n",
      "CPU times: total: 0 ns\n",
      "Wall time: 0 ns\n"
     ]
    },
    {
     "data": {
      "text/plain": [
       "3.136"
      ]
     },
     "execution_count": 18,
     "metadata": {},
     "output_type": "execute_result"
    }
   ],
   "source": [
    "%time monte_carlo_pi(10000)\n",
    "%time monte_carlo_pi(10000)"
   ]
  },
  {
   "cell_type": "code",
   "execution_count": 20,
   "id": "ea92df73-2648-468c-bb1b-8cb4edb890b9",
   "metadata": {},
   "outputs": [],
   "source": [
    "def original_function(input_list):\n",
    "    output_list = []\n",
    "    for item in input_list:\n",
    "        if item % 2 == 0:\n",
    "            output_list.append(2)\n",
    "        else:\n",
    "            output_list.append('1')\n",
    "    return output_list\n",
    "\n",
    "test_list = list(range(100000))"
   ]
  },
  {
   "cell_type": "code",
   "execution_count": 21,
   "id": "7e3b8f99-4b96-4c42-ae73-74f160cc1cfb",
   "metadata": {},
   "outputs": [
    {
     "data": {
      "text/plain": [
       "[2, '1', 2, '1', 2, '1', 2, '1', 2, '1']"
      ]
     },
     "execution_count": 21,
     "metadata": {},
     "output_type": "execute_result"
    }
   ],
   "source": [
    "original_function(test_list)[0:10]"
   ]
  },
  {
   "cell_type": "code",
   "execution_count": 22,
   "id": "a3b44686-5268-4159-ba7e-3a97a8bb4ce7",
   "metadata": {},
   "outputs": [],
   "source": [
    "jitted_function = jit()(original_function)"
   ]
  },
  {
   "cell_type": "code",
   "execution_count": 24,
   "id": "a9c32ece-2229-42e9-ae6c-7151ac931427",
   "metadata": {},
   "outputs": [
    {
     "name": "stdout",
     "output_type": "stream",
     "text": [
      "CPU times: total: 15.6 ms\n",
      "Wall time: 8.97 ms\n"
     ]
    }
   ],
   "source": [
    "%time _ = original_function(test_list)"
   ]
  },
  {
   "cell_type": "code",
   "execution_count": 26,
   "id": "852a7886-94e5-4109-a9af-05fd72d565c8",
   "metadata": {},
   "outputs": [
    {
     "name": "stdout",
     "output_type": "stream",
     "text": [
      "CPU times: total: 15.6 ms\n",
      "Wall time: 24.9 ms\n"
     ]
    }
   ],
   "source": [
    "%time _ = jitted_function(test_list)"
   ]
  },
  {
   "cell_type": "code",
   "execution_count": 33,
   "id": "44eb7908-0f19-4e16-afc8-7e5a6948ff56",
   "metadata": {},
   "outputs": [],
   "source": [
    "@vectorize(nopython=True)\n",
    "def non_list_function(item):\n",
    "    if item % 2 == 0:\n",
    "        return 2\n",
    "    else:\n",
    "        return 1"
   ]
  },
  {
   "cell_type": "code",
   "execution_count": 35,
   "id": "1d6b3dab-8b0a-4f21-94ff-60a55f456b85",
   "metadata": {},
   "outputs": [
    {
     "name": "stdout",
     "output_type": "stream",
     "text": [
      "CPU times: total: 0 ns\n",
      "Wall time: 0 ns\n"
     ]
    },
    {
     "data": {
      "text/plain": [
       "array([2, 1, 2, ..., 1, 2, 1], dtype=int64)"
      ]
     },
     "execution_count": 35,
     "metadata": {},
     "output_type": "execute_result"
    }
   ],
   "source": [
    "%time non_list_function(test_list)"
   ]
  },
  {
   "cell_type": "code",
   "execution_count": 36,
   "id": "8fa874fe-3a21-4541-bfdf-5fced6297c1e",
   "metadata": {},
   "outputs": [],
   "source": [
    "@njit\n",
    "def allocated_func(input_list):\n",
    "    output_list = np.zeros_like(input_list)\n",
    "    for ii, item in enumerate(input_list):\n",
    "        if item % 2 == 0:\n",
    "            output_list[ii] = 2\n",
    "        else:\n",
    "            output_list[ii] = 1\n",
    "    return output_list"
   ]
  },
  {
   "cell_type": "code",
   "execution_count": 37,
   "id": "0d76d10b-5ecf-4cb5-bb00-f448ae0a86c7",
   "metadata": {},
   "outputs": [
    {
     "name": "stdout",
     "output_type": "stream",
     "text": [
      "CPU times: total: 109 ms\n",
      "Wall time: 109 ms\n"
     ]
    },
    {
     "data": {
      "text/plain": [
       "array([2, 1, 2, ..., 1, 2, 1])"
      ]
     },
     "execution_count": 37,
     "metadata": {},
     "output_type": "execute_result"
    }
   ],
   "source": [
    "%time allocated_func(test_list)"
   ]
  },
  {
   "cell_type": "code",
   "execution_count": 56,
   "id": "efdcb09a-b807-4b29-b8ea-68aeee73669d",
   "metadata": {},
   "outputs": [
    {
     "name": "stdout",
     "output_type": "stream",
     "text": [
      "CPU times: total: 0 ns\n",
      "Wall time: 0 ns\n"
     ]
    },
    {
     "data": {
      "text/plain": [
       "array([2, 1, 2, ..., 1, 2, 1])"
      ]
     },
     "execution_count": 56,
     "metadata": {},
     "output_type": "execute_result"
    }
   ],
   "source": [
    "%time allocated_func(test_list)"
   ]
  },
  {
   "cell_type": "code",
   "execution_count": 57,
   "id": "077ceb41-021e-4670-a2c7-b2cd8e4004f5",
   "metadata": {},
   "outputs": [
    {
     "name": "stdout",
     "output_type": "stream",
     "text": [
      "CPU times: total: 0 ns\n",
      "Wall time: 0 ns\n"
     ]
    },
    {
     "data": {
      "text/plain": [
       "array([2, 1, 2, ..., 1, 2, 1], dtype=int64)"
      ]
     },
     "execution_count": 57,
     "metadata": {},
     "output_type": "execute_result"
    }
   ],
   "source": [
    "%time non_list_function(test_list)"
   ]
  },
  {
   "cell_type": "markdown",
   "id": "b5c17253-807e-489f-9d91-daabc8bf160b",
   "metadata": {},
   "source": [
    "## Now do the simulation part of the tutorial "
   ]
  },
  {
   "cell_type": "code",
   "execution_count": 58,
   "id": "7b5028b5-bb29-4a08-9871-02e7c99dda6a",
   "metadata": {},
   "outputs": [],
   "source": [
    "# Let's mix wet friction with dry friction, this makes the behavior\n",
    "# of the system dependent on the initial condition, something\n",
    "# may be interesting to study by running an exhaustive simluation\n",
    "\n",
    "def friction_fn(v, vt):\n",
    "    if v > vt:\n",
    "        return - v * 3\n",
    "    else:\n",
    "        return - vt * 3 * np.sign(v)\n",
    "\n",
    "def simulate_spring_mass_funky_damper(x0, T=10, dt=0.0001, vt=1.0):\n",
    "    times = np.arange(0, T, dt)\n",
    "    positions = np.zeros_like(times)\n",
    "    \n",
    "    v = 0\n",
    "    a = 0\n",
    "    x = x0\n",
    "    positions[0] = x0/x0\n",
    "    \n",
    "    for ii in range(len(times)):\n",
    "        if ii == 0:\n",
    "            continue\n",
    "        t = times[ii]\n",
    "        a = friction_fn(v, vt) - 100*x\n",
    "        v = v + a*dt\n",
    "        x = x + v*dt\n",
    "        positions[ii] = x/x0\n",
    "    return times, positions"
   ]
  },
  {
   "cell_type": "code",
   "execution_count": 59,
   "id": "93555e13-6a3b-4ff2-94a5-7091e31bd3f3",
   "metadata": {},
   "outputs": [
    {
     "data": {
      "text/plain": [
       "<matplotlib.legend.Legend at 0x247976b7910>"
      ]
     },
     "execution_count": 59,
     "metadata": {},
     "output_type": "execute_result"
    },
    {
     "data": {
      "image/png": "[encoded data removed]",
      "text/plain": [
       "<Figure size 432x288 with 1 Axes>"
      ]
     },
     "metadata": {
      "needs_background": "light"
     },
     "output_type": "display_data"
    }
   ],
   "source": [
    "plt.plot(*simulate_spring_mass_funky_damper(0.1))\n",
    "plt.plot(*simulate_spring_mass_funky_damper(1))\n",
    "plt.plot(*simulate_spring_mass_funky_damper(10))\n",
    "plt.legend(['0.1', '1', '10'])"
   ]
  },
  {
   "cell_type": "code",
   "execution_count": 60,
   "id": "17ef52bb-7f03-4e0b-80ca-e0c4da0ddda5",
   "metadata": {},
   "outputs": [
    {
     "name": "stdout",
     "output_type": "stream",
     "text": [
      "CPU times: total: 188 ms\n",
      "Wall time: 178 ms\n"
     ]
    }
   ],
   "source": [
    "%time _ = simulate_spring_mass_funky_damper(0.1)"
   ]
  },
  {
   "cell_type": "code",
   "execution_count": 70,
   "id": "cf8cadd7-2ffe-4792-bf14-72d79da9e8dd",
   "metadata": {},
   "outputs": [],
   "source": [
    "@njit\n",
    "def friction_fn(v, vt):\n",
    "    if v > vt:\n",
    "        return - v * 3\n",
    "    else:\n",
    "        return - vt * 3 * np.sign(v)\n",
    "\n",
    "@njit\n",
    "def simulate_spring_mass_funky_damper(x0, T=10, dt=0.0001, vt=1.0):\n",
    "    times = np.arange(0, T, dt)\n",
    "    positions = np.zeros_like(times)\n",
    "    \n",
    "    v = 0\n",
    "    a = 0\n",
    "    x = x0\n",
    "    positions[0] = x0/x0\n",
    "    \n",
    "    for ii in range(len(times)):\n",
    "        if ii == 0:\n",
    "            continue\n",
    "        t = times[ii]\n",
    "        a = friction_fn(v, vt) - 100*x\n",
    "        v = v + a*dt\n",
    "        x = x + v*dt\n",
    "        positions[ii] = x/x0\n",
    "    return times, positions\n",
    "\n",
    "_ = simulate_spring_mass_funky_damper(0.1)"
   ]
  },
  {
   "cell_type": "code",
   "execution_count": 71,
   "id": "0ac82dba-26c5-4c98-a8fb-e8407751f559",
   "metadata": {},
   "outputs": [
    {
     "name": "stdout",
     "output_type": "stream",
     "text": [
      "CPU times: total: 31.2 ms\n",
      "Wall time: 1.21 ms\n"
     ]
    }
   ],
   "source": [
    "%time _ = simulate_spring_mass_funky_damper(0.1)"
   ]
  },
  {
   "cell_type": "code",
   "execution_count": 72,
   "id": "8da50e41-16e7-4105-a95f-7f126e9f9a37",
   "metadata": {},
   "outputs": [
    {
     "name": "stdout",
     "output_type": "stream",
     "text": [
      "CPU times: total: 9.84 s\n",
      "Wall time: 9.85 s\n"
     ]
    }
   ],
   "source": [
    "%%time\n",
    "from concurrent.futures import ThreadPoolExecutor\n",
    "\n",
    "with ThreadPoolExecutor(8) as ex:\n",
    "    ex.map(simulate_spring_mass_funky_damper, np.arange(0, 1000, 0.1))"
   ]
  },
  {
   "cell_type": "code",
   "execution_count": 73,
   "id": "a1101ae5-df70-42dd-a081-f2d33ab8dcb9",
   "metadata": {},
   "outputs": [],
   "source": [
    "@njit(nogil=True)\n",
    "def friction_fn(v, vt):\n",
    "    if v > vt:\n",
    "        return - v * 3\n",
    "    else:\n",
    "        return - vt * 3 * np.sign(v)\n",
    "\n",
    "@njit(nogil=True)\n",
    "def simulate_spring_mass_funky_damper(x0, T=10, dt=0.0001, vt=1.0):\n",
    "    times = np.arange(0, T, dt)\n",
    "    positions = np.zeros_like(times)\n",
    "    \n",
    "    v = 0\n",
    "    a = 0\n",
    "    x = x0\n",
    "    positions[0] = x0/x0\n",
    "    \n",
    "    for ii in range(len(times)):\n",
    "        if ii == 0:\n",
    "            continue\n",
    "        t = times[ii]\n",
    "        a = friction_fn(v, vt) - 100*x\n",
    "        v = v + a*dt\n",
    "        x = x + v*dt\n",
    "        positions[ii] = x/x0\n",
    "    return times, positions\n",
    "\n",
    "# compile\n",
    "_ = simulate_spring_mass_funky_damper(0.1)"
   ]
  },
  {
   "cell_type": "code",
   "execution_count": 76,
   "id": "ad39f676-2428-41c1-bc21-065596727bf7",
   "metadata": {},
   "outputs": [
    {
     "name": "stdout",
     "output_type": "stream",
     "text": [
      "CPU times: total: 6.88 s\n",
      "Wall time: 918 ms\n"
     ]
    }
   ],
   "source": [
    "%%time\n",
    "from concurrent.futures import ThreadPoolExecutor\n",
    "\n",
    "with ThreadPoolExecutor(20) as ex:\n",
    "    ex.map(simulate_spring_mass_funky_damper, np.arange(0, 1000, 0.1))"
   ]
  },
  {
   "cell_type": "code",
   "execution_count": 77,
   "id": "d8a19787-373e-4b01-a1f6-8d7dbe986caf",
   "metadata": {},
   "outputs": [],
   "source": [
    "from numba import prange\n",
    "@njit(nogil=True, parallel=True)\n",
    "def run_sims(end=1000):\n",
    "    for x0 in prange(int(end/0.1)):\n",
    "        if x0 == 0:\n",
    "            continue\n",
    "        simulate_spring_mass_funky_damper(x0*0.1)\n",
    "        \n",
    "run_sims()"
   ]
  },
  {
   "cell_type": "code",
   "execution_count": 78,
   "id": "c094cf49-8bc6-4335-b5f9-1cb8d7f2de75",
   "metadata": {},
   "outputs": [
    {
     "name": "stdout",
     "output_type": "stream",
     "text": [
      "CPU times: total: 6.44 s\n",
      "Wall time: 493 ms\n"
     ]
    }
   ],
   "source": [
    "%time run_sims()"
   ]
  },
  {
   "cell_type": "code",
   "execution_count": null,
   "id": "d1f34d48-b4d5-47e6-9846-6fdfafc15336",
   "metadata": {},
   "outputs": [],
   "source": []
  }
 ],
 "metadata": {
  "kernelspec": {
   "display_name": "Python 3 (ipykernel)",
   "language": "python",
   "name": "python3"
  },
  "language_info": {
   "codemirror_mode": {
    "name": "ipython",
    "version": 3
   },
   "file_extension": ".py",
   "mimetype": "text/x-python",
   "name": "python",
   "nbconvert_exporter": "python",
   "pygments_lexer": "ipython3",
   "version": "3.9.12"
  }
 },
 "nbformat": 4,
 "nbformat_minor": 5
}
