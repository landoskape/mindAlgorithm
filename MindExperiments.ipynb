{
 "cells": [
  {
   "cell_type": "markdown",
   "id": "84edc57e-85f4-499b-af12-06a745ed5516",
   "metadata": {},
   "source": [
    "### MIND Experiments\n",
    "Keeping this note here as a way to track ideas --\n",
    "\n",
    "It would also be interesting to run MIND on my pilot data, and compare to Harvey data. I'm guessing that the emergence of structure constrains the effective dimensionality of an activity manifold. Meaning that if there is a virtual environment that an animal is interacting with, the dimensionality of the manifold will be limited by the dimensionality of that environment. However, if the mouse is \"aloof\" behaviorally, then maybe the manifold dimensionality expands because the underlying manifold is actually much bigger...\n",
    "\n",
    "In practice, I would expect this to manifest through a much higher manifold dimensionality when trying to predict the data from disengaged trials rather than engaged trials (in Pettit/Harvey). Maybe this would be a read-out of how engaged a mouse is with an N-dimensional task...?"
   ]
  },
  {
   "cell_type": "code",
   "execution_count": null,
   "id": "0ed72d01-cbd1-4de6-8b24-20f69eee3244",
   "metadata": {},
   "outputs": [],
   "source": []
  }
 ],
 "metadata": {
  "kernelspec": {
   "display_name": "Python 3 (ipykernel)",
   "language": "python",
   "name": "python3"
  },
  "language_info": {
   "codemirror_mode": {
    "name": "ipython",
    "version": 3
   },
   "file_extension": ".py",
   "mimetype": "text/x-python",
   "name": "python",
   "nbconvert_exporter": "python",
   "pygments_lexer": "ipython3",
   "version": "3.9.12"
  }
 },
 "nbformat": 4,
 "nbformat_minor": 5
}
