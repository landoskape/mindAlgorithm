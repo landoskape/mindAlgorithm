{
 "cells": [
  {
   "cell_type": "markdown",
   "id": "49c008ed-983e-4613-8663-42cba6334f75",
   "metadata": {},
   "source": [
    "## Testing some numba code!!!\n",
    "I want to incorporate numba into my mind algorithm and don't know how to use it yet..."
   ]
  },
  {
   "cell_type": "code",
   "execution_count": 13,
   "id": "39befc53-1c2f-4847-b7ed-561225ec742d",
   "metadata": {},
   "outputs": [],
   "source": [
    "# inclusions\n",
    "import numpy as np\n",
    "import time\n",
    "import scipy\n",
    "import numba\n",
    "from numba import njit, float64, float32, int32, prange, vectorize"
   ]
  },
  {
   "cell_type": "code",
   "execution_count": 16,
   "id": "6a0cff5d-b592-4515-9e96-c88c68436476",
   "metadata": {},
   "outputs": [],
   "source": [
    "def addBasic(x, y):\n",
    "    return x + y\n",
    "\n",
    "@njit\n",
    "def addSimple(x, y):\n",
    "    # A somewhat trivial example\n",
    "    return x + y\n",
    "\n",
    "@njit(parallel=True)\n",
    "def addParallel(x, y):\n",
    "    out = np.zeros_like(x)\n",
    "    for ii in range(len(out)):\n",
    "        out[ii] = x[ii] + y[ii]\n",
    "    return out"
   ]
  },
  {
   "cell_type": "code",
   "execution_count": 17,
   "id": "6b829c49-c974-42d8-a0fe-c70ea4bac8be",
   "metadata": {},
   "outputs": [
    {
     "ename": "TypingError",
     "evalue": "Failed in nopython mode pipeline (step: nopython frontend)\n\u001b[1m\u001b[1mNo implementation of function Function(<built-in function getitem>) found for signature:\n \n >>> getitem(int64, int64)\n \nThere are 22 candidate implementations:\n\u001b[1m   - Of which 22 did not match due to:\n   Overload of function 'getitem': File: <numerous>: Line N/A.\n     With argument(s): '(int64, int64)':\u001b[0m\n\u001b[1m    No match.\u001b[0m\n\u001b[0m\n\u001b[0m\u001b[1mDuring: typing of intrinsic-call at C:\\Users\\andrew\\AppData\\Local\\Temp\\ipykernel_5060\\1175693418.py (13)\u001b[0m\n\u001b[1m\nFile \"..\\..\\..\\AppData\\Local\\Temp\\ipykernel_5060\\1175693418.py\", line 13:\u001b[0m\n\u001b[1m<source missing, REPL/exec in use?>\u001b[0m\n",
     "output_type": "error",
     "traceback": [
      "\u001b[1;31m---------------------------------------------------------------------------\u001b[0m",
      "\u001b[1;31mTypingError\u001b[0m                               Traceback (most recent call last)",
      "Input \u001b[1;32mIn [17]\u001b[0m, in \u001b[0;36m<cell line: 3>\u001b[1;34m()\u001b[0m\n\u001b[0;32m      1\u001b[0m addBasic(\u001b[38;5;241m1\u001b[39m,\u001b[38;5;241m2\u001b[39m)\n\u001b[0;32m      2\u001b[0m addSimple(\u001b[38;5;241m1\u001b[39m,\u001b[38;5;241m2\u001b[39m)\n\u001b[1;32m----> 3\u001b[0m \u001b[43maddParallel\u001b[49m\u001b[43m(\u001b[49m\u001b[38;5;241;43m1\u001b[39;49m\u001b[43m,\u001b[49m\u001b[38;5;241;43m2\u001b[39;49m\u001b[43m)\u001b[49m\n\u001b[0;32m      5\u001b[0m a \u001b[38;5;241m=\u001b[39m np\u001b[38;5;241m.\u001b[39mrandom\u001b[38;5;241m.\u001b[39mrandint(\u001b[38;5;241m0\u001b[39m,\u001b[38;5;241m100\u001b[39m,(\u001b[38;5;241m1000\u001b[39m,\u001b[38;5;241m1\u001b[39m))\n\u001b[0;32m      6\u001b[0m b \u001b[38;5;241m=\u001b[39m np\u001b[38;5;241m.\u001b[39mrandom\u001b[38;5;241m.\u001b[39mrandint(\u001b[38;5;241m0\u001b[39m,\u001b[38;5;241m100\u001b[39m,(\u001b[38;5;241m1000\u001b[39m,\u001b[38;5;241m1\u001b[39m))\n",
      "File \u001b[1;32m~\\anaconda3\\lib\\site-packages\\numba\\core\\dispatcher.py:468\u001b[0m, in \u001b[0;36m_DispatcherBase._compile_for_args\u001b[1;34m(self, *args, **kws)\u001b[0m\n\u001b[0;32m    464\u001b[0m         msg \u001b[38;5;241m=\u001b[39m (\u001b[38;5;124mf\u001b[39m\u001b[38;5;124m\"\u001b[39m\u001b[38;5;132;01m{\u001b[39;00m\u001b[38;5;28mstr\u001b[39m(e)\u001b[38;5;241m.\u001b[39mrstrip()\u001b[38;5;132;01m}\u001b[39;00m\u001b[38;5;124m \u001b[39m\u001b[38;5;130;01m\\n\u001b[39;00m\u001b[38;5;130;01m\\n\u001b[39;00m\u001b[38;5;124mThis error may have been caused \u001b[39m\u001b[38;5;124m\"\u001b[39m\n\u001b[0;32m    465\u001b[0m                \u001b[38;5;124mf\u001b[39m\u001b[38;5;124m\"\u001b[39m\u001b[38;5;124mby the following argument(s):\u001b[39m\u001b[38;5;130;01m\\n\u001b[39;00m\u001b[38;5;132;01m{\u001b[39;00margs_str\u001b[38;5;132;01m}\u001b[39;00m\u001b[38;5;130;01m\\n\u001b[39;00m\u001b[38;5;124m\"\u001b[39m)\n\u001b[0;32m    466\u001b[0m         e\u001b[38;5;241m.\u001b[39mpatch_message(msg)\n\u001b[1;32m--> 468\u001b[0m     \u001b[43merror_rewrite\u001b[49m\u001b[43m(\u001b[49m\u001b[43me\u001b[49m\u001b[43m,\u001b[49m\u001b[43m \u001b[49m\u001b[38;5;124;43m'\u001b[39;49m\u001b[38;5;124;43mtyping\u001b[39;49m\u001b[38;5;124;43m'\u001b[39;49m\u001b[43m)\u001b[49m\n\u001b[0;32m    469\u001b[0m \u001b[38;5;28;01mexcept\u001b[39;00m errors\u001b[38;5;241m.\u001b[39mUnsupportedError \u001b[38;5;28;01mas\u001b[39;00m e:\n\u001b[0;32m    470\u001b[0m     \u001b[38;5;66;03m# Something unsupported is present in the user code, add help info\u001b[39;00m\n\u001b[0;32m    471\u001b[0m     error_rewrite(e, \u001b[38;5;124m'\u001b[39m\u001b[38;5;124munsupported_error\u001b[39m\u001b[38;5;124m'\u001b[39m)\n",
      "File \u001b[1;32m~\\anaconda3\\lib\\site-packages\\numba\\core\\dispatcher.py:409\u001b[0m, in \u001b[0;36m_DispatcherBase._compile_for_args.<locals>.error_rewrite\u001b[1;34m(e, issue_type)\u001b[0m\n\u001b[0;32m    407\u001b[0m     \u001b[38;5;28;01mraise\u001b[39;00m e\n\u001b[0;32m    408\u001b[0m \u001b[38;5;28;01melse\u001b[39;00m:\n\u001b[1;32m--> 409\u001b[0m     \u001b[38;5;28;01mraise\u001b[39;00m e\u001b[38;5;241m.\u001b[39mwith_traceback(\u001b[38;5;28;01mNone\u001b[39;00m)\n",
      "\u001b[1;31mTypingError\u001b[0m: Failed in nopython mode pipeline (step: nopython frontend)\n\u001b[1m\u001b[1mNo implementation of function Function(<built-in function getitem>) found for signature:\n \n >>> getitem(int64, int64)\n \nThere are 22 candidate implementations:\n\u001b[1m   - Of which 22 did not match due to:\n   Overload of function 'getitem': File: <numerous>: Line N/A.\n     With argument(s): '(int64, int64)':\u001b[0m\n\u001b[1m    No match.\u001b[0m\n\u001b[0m\n\u001b[0m\u001b[1mDuring: typing of intrinsic-call at C:\\Users\\andrew\\AppData\\Local\\Temp\\ipykernel_5060\\1175693418.py (13)\u001b[0m\n\u001b[1m\nFile \"..\\..\\..\\AppData\\Local\\Temp\\ipykernel_5060\\1175693418.py\", line 13:\u001b[0m\n\u001b[1m<source missing, REPL/exec in use?>\u001b[0m\n"
     ]
    }
   ],
   "source": [
    "addBasic(1,2)\n",
    "addSimple(1,2)\n",
    "addParallel(1,2)\n",
    "\n",
    "a = np.random.randint(0,100,(1000,1))\n",
    "b = np.random.randint(0,100,(1000,1))\n",
    "\n",
    "%time _ = addBasic(a,b)\n",
    "%time _ = addSimple(a,b)\n",
    "%time _ = addParallel(a,b)"
   ]
  },
  {
   "cell_type": "code",
   "execution_count": 7,
   "id": "8a98a36a-7a6a-42b4-a1a9-0eaf19c531d2",
   "metadata": {},
   "outputs": [
    {
     "ename": "NameError",
     "evalue": "name 'vectorize' is not defined",
     "output_type": "error",
     "traceback": [
      "\u001b[1;31m---------------------------------------------------------------------------\u001b[0m",
      "\u001b[1;31mNameError\u001b[0m                                 Traceback (most recent call last)",
      "Input \u001b[1;32mIn [7]\u001b[0m, in \u001b[0;36m<cell line: 1>\u001b[1;34m()\u001b[0m\n\u001b[1;32m----> 1\u001b[0m \u001b[38;5;129m@vectorize\u001b[39m\n\u001b[0;32m      2\u001b[0m \u001b[38;5;28;01mdef\u001b[39;00m \u001b[38;5;21mfv\u001b[39m(x, y):\n\u001b[0;32m      3\u001b[0m     \u001b[38;5;28;01mreturn\u001b[39;00m x \u001b[38;5;241m+\u001b[39m y\n",
      "\u001b[1;31mNameError\u001b[0m: name 'vectorize' is not defined"
     ]
    }
   ],
   "source": []
  },
  {
   "cell_type": "code",
   "execution_count": 44,
   "id": "20e19d73-e873-49f8-a773-e56271d03293",
   "metadata": {},
   "outputs": [
    {
     "data": {
      "text/plain": [
       "array(int32, 2d, C)"
      ]
     },
     "execution_count": 44,
     "metadata": {},
     "output_type": "execute_result"
    }
   ],
   "source": [
    "x = np.arange(100).reshape(10, 10)\n",
    "numba.typeof(x)"
   ]
  },
  {
   "cell_type": "code",
   "execution_count": 65,
   "id": "d114d32e-793f-45c7-ad5f-4bd5696e1d21",
   "metadata": {},
   "outputs": [
    {
     "name": "stdout",
     "output_type": "stream",
     "text": [
      "5.82 ms ± 50.1 µs per loop (mean ± std. dev. of 7 runs, 100 loops each)\n",
      "5.79 ms ± 36.8 µs per loop (mean ± std. dev. of 7 runs, 100 loops each)\n"
     ]
    }
   ],
   "source": [
    "def matMult(A,B):\n",
    "    return A @ B\n",
    "\n",
    "N = 1000\n",
    "A = np.ascontiguousarray(np.random.normal(0,1,(N,N)))\n",
    "B = np.ascontiguousarray(np.random.normal(0,1,(N,N)))\n",
    "\n",
    "@jit(float64[:,:](numba.typeof(A),numba.typeof(A)))\n",
    "def fastMatMult(A,B):\n",
    "    return A @ B\n",
    "\n",
    "%timeit matMult(A,B)\n",
    "%timeit fastMatMult(A,B)"
   ]
  },
  {
   "cell_type": "code",
   "execution_count": null,
   "id": "ac90f6d5-4720-4762-bcd5-83591008c227",
   "metadata": {},
   "outputs": [],
   "source": [
    "@njit((float64, float32))\n",
    "def ppca(data, minVariance=0.95):\n",
    "    # probabilistic ppca - using description in Methods Section 1.7 of the following: https://www.biorxiv.org/content/10.1101/418939v2.full.pdf\n",
    "    # data is a (observations x dimensions) array \n",
    "    # default is to set q = to the smallest number of dimensions that exceed some percentage of the variance (default 95%)\n",
    "    \n",
    "    # if data.ndim != 2:\n",
    "    #     raise ValueError(\"data must be a matrix\")\n",
    "        \n",
    "    # Return ML estimate of mean\n",
    "    uML = np.mean(data,axis=0)\n",
    "    cdata = data - uML # use centered data for computations\n",
    "    \n",
    "    # Pick method based on computational speed (logic inherited from Low/Lewallen, haven't tested yet!)\n",
    "    N,D = data.shape\n",
    "    if N > D:\n",
    "        # do eigendecomposition\n",
    "        covData = np.cov(cdata.T, bias=True)\n",
    "        w,v = scipy.linalg.eigh(covData)\n",
    "        w[w<=np.finfo(float).eps]=np.finfo(float).eps # don't allow weird tiny numbers (or negatives, it's a symmetric positive semidefinite matrix)\n",
    "        idx = np.argsort(-w) # return index of descending sort\n",
    "        w = w[idx] # sort eigenvalues\n",
    "        v = v[:,idx] # sort eigenvectors\n",
    "        s = np.sqrt(N*w) # singular values\n",
    "        \n",
    "    else:\n",
    "        # do svd instead\n",
    "        _,s,v = np.linalg.svd(cdata)\n",
    "        v = v.T\n",
    "        w = s**2 / N # eigenvalues\n",
    "    \n",
    "    varExplained = np.cumsum(w / np.sum(w))\n",
    "    q = int(np.where(varExplained >= minVariance)[0][0])\n",
    "    \n",
    "    # Return ML estimate of noise variance\n",
    "    nvML = np.mean(w[q:]) \n",
    "    \n",
    "    # Keep q eigenvalues & eigenvectors\n",
    "    w = w[:q]\n",
    "    v = v[:,:q]\n",
    "    \n",
    "    # Compute ML estimate of covariance\n",
    "    covML = nvML*np.identity(D) + (v @ (np.diag(w) - nvML*np.identity(q)) @ v.T)\n",
    "    invCovML = np.linalg.inv(covML)\n",
    "    \n",
    "    # Return likelihood\n",
    "    likelihood = -N*D/2*np.log(2*np.pi) - N/2*np.log(np.linalg.det(covML)) - (1/2)*np.sum(np.array([cdata[n,:] @ invCovML @ cdata[n,:].T for n in range(N)]))\n",
    "    \n",
    "    return likelihood,uML,covML,nvML,w,v"
   ]
  }
 ],
 "metadata": {
  "kernelspec": {
   "display_name": "Python 3 (ipykernel)",
   "language": "python",
   "name": "python3"
  },
  "language_info": {
   "codemirror_mode": {
    "name": "ipython",
    "version": 3
   },
   "file_extension": ".py",
   "mimetype": "text/x-python",
   "name": "python",
   "nbconvert_exporter": "python",
   "pygments_lexer": "ipython3",
   "version": "3.9.12"
  }
 },
 "nbformat": 4,
 "nbformat_minor": 5
}
