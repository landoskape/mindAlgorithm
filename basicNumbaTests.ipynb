{
 "cells": [
  {
   "cell_type": "markdown",
   "id": "49c008ed-983e-4613-8663-42cba6334f75",
   "metadata": {},
   "source": [
    "## Testing some numba code!!!\n",
    "I want to incorporate numba into my mind algorithm and don't know how to use it yet..."
   ]
  },
  {
   "cell_type": "code",
   "execution_count": 1,
   "id": "39befc53-1c2f-4847-b7ed-561225ec742d",
   "metadata": {},
   "outputs": [],
   "source": [
    "# inclusions\n",
    "import numpy as np\n",
    "import time\n",
    "import scipy\n",
    "import numba\n",
    "from numba import njit, float64, float32, int32, prange, vectorize"
   ]
  },
  {
   "cell_type": "code",
   "execution_count": 2,
   "id": "6a0cff5d-b592-4515-9e96-c88c68436476",
   "metadata": {},
   "outputs": [],
   "source": [
    "def addBasic(x, y):\n",
    "    return x + y\n",
    "\n",
    "@njit\n",
    "def addSimple(x, y):\n",
    "    # A somewhat trivial example\n",
    "    return x + y\n",
    "\n",
    "@njit(parallel=True)\n",
    "def addParallel(x, y):\n",
    "    out = np.zeros_like(x)\n",
    "    for ii in range(len(out)):\n",
    "        out[ii] = x[ii] + y[ii]\n",
    "    return out"
   ]
  },
  {
   "cell_type": "code",
   "execution_count": 3,
   "id": "6b829c49-c974-42d8-a0fe-c70ea4bac8be",
   "metadata": {},
   "outputs": [
    {
     "ename": "TypingError",
     "evalue": "Failed in nopython mode pipeline (step: nopython frontend)\n\u001b[1m\u001b[1mNo implementation of function Function(<built-in function getitem>) found for signature:\n \n >>> getitem(int64, int64)\n \nThere are 16 candidate implementations:\n\u001b[1m   - Of which 16 did not match due to:\n   Overload of function 'getitem': File: <numerous>: Line N/A.\n     With argument(s): '(int64, int64)':\u001b[0m\n\u001b[1m    No match.\u001b[0m\n\u001b[0m\n\u001b[0m\u001b[1mDuring: typing of intrinsic-call at <ipython-input-2-afccd68eb3c5> (13)\u001b[0m\n\u001b[1m\nFile \"<ipython-input-2-afccd68eb3c5>\", line 13:\u001b[0m\n\u001b[1mdef addParallel(x, y):\n    <source elided>\n    for ii in range(len(out)):\n\u001b[1m        out[ii] = x[ii] + y[ii]\n\u001b[0m        \u001b[1m^\u001b[0m\u001b[0m\n",
     "output_type": "error",
     "traceback": [
      "\u001b[0;31m---------------------------------------------------------------------------\u001b[0m",
      "\u001b[0;31mTypingError\u001b[0m                               Traceback (most recent call last)",
      "\u001b[0;32m<ipython-input-3-6940bac6b0fd>\u001b[0m in \u001b[0;36m<module>\u001b[0;34m\u001b[0m\n\u001b[1;32m      1\u001b[0m \u001b[0maddBasic\u001b[0m\u001b[0;34m(\u001b[0m\u001b[0;36m1\u001b[0m\u001b[0;34m,\u001b[0m\u001b[0;36m2\u001b[0m\u001b[0;34m)\u001b[0m\u001b[0;34m\u001b[0m\u001b[0;34m\u001b[0m\u001b[0m\n\u001b[1;32m      2\u001b[0m \u001b[0maddSimple\u001b[0m\u001b[0;34m(\u001b[0m\u001b[0;36m1\u001b[0m\u001b[0;34m,\u001b[0m\u001b[0;36m2\u001b[0m\u001b[0;34m)\u001b[0m\u001b[0;34m\u001b[0m\u001b[0;34m\u001b[0m\u001b[0m\n\u001b[0;32m----> 3\u001b[0;31m \u001b[0maddParallel\u001b[0m\u001b[0;34m(\u001b[0m\u001b[0;36m1\u001b[0m\u001b[0;34m,\u001b[0m\u001b[0;36m2\u001b[0m\u001b[0;34m)\u001b[0m\u001b[0;34m\u001b[0m\u001b[0;34m\u001b[0m\u001b[0m\n\u001b[0m\u001b[1;32m      4\u001b[0m \u001b[0;34m\u001b[0m\u001b[0m\n\u001b[1;32m      5\u001b[0m \u001b[0ma\u001b[0m \u001b[0;34m=\u001b[0m \u001b[0mnp\u001b[0m\u001b[0;34m.\u001b[0m\u001b[0mrandom\u001b[0m\u001b[0;34m.\u001b[0m\u001b[0mrandint\u001b[0m\u001b[0;34m(\u001b[0m\u001b[0;36m0\u001b[0m\u001b[0;34m,\u001b[0m\u001b[0;36m100\u001b[0m\u001b[0;34m,\u001b[0m\u001b[0;34m(\u001b[0m\u001b[0;36m1000\u001b[0m\u001b[0;34m,\u001b[0m\u001b[0;36m1\u001b[0m\u001b[0;34m)\u001b[0m\u001b[0;34m)\u001b[0m\u001b[0;34m\u001b[0m\u001b[0;34m\u001b[0m\u001b[0m\n",
      "\u001b[0;32m~/opt/anaconda3/lib/python3.8/site-packages/numba/core/dispatcher.py\u001b[0m in \u001b[0;36m_compile_for_args\u001b[0;34m(self, *args, **kws)\u001b[0m\n\u001b[1;32m    413\u001b[0m                 \u001b[0me\u001b[0m\u001b[0;34m.\u001b[0m\u001b[0mpatch_message\u001b[0m\u001b[0;34m(\u001b[0m\u001b[0mmsg\u001b[0m\u001b[0;34m)\u001b[0m\u001b[0;34m\u001b[0m\u001b[0;34m\u001b[0m\u001b[0m\n\u001b[1;32m    414\u001b[0m \u001b[0;34m\u001b[0m\u001b[0m\n\u001b[0;32m--> 415\u001b[0;31m             \u001b[0merror_rewrite\u001b[0m\u001b[0;34m(\u001b[0m\u001b[0me\u001b[0m\u001b[0;34m,\u001b[0m \u001b[0;34m'typing'\u001b[0m\u001b[0;34m)\u001b[0m\u001b[0;34m\u001b[0m\u001b[0;34m\u001b[0m\u001b[0m\n\u001b[0m\u001b[1;32m    416\u001b[0m         \u001b[0;32mexcept\u001b[0m \u001b[0merrors\u001b[0m\u001b[0;34m.\u001b[0m\u001b[0mUnsupportedError\u001b[0m \u001b[0;32mas\u001b[0m \u001b[0me\u001b[0m\u001b[0;34m:\u001b[0m\u001b[0;34m\u001b[0m\u001b[0;34m\u001b[0m\u001b[0m\n\u001b[1;32m    417\u001b[0m             \u001b[0;31m# Something unsupported is present in the user code, add help info\u001b[0m\u001b[0;34m\u001b[0m\u001b[0;34m\u001b[0m\u001b[0;34m\u001b[0m\u001b[0m\n",
      "\u001b[0;32m~/opt/anaconda3/lib/python3.8/site-packages/numba/core/dispatcher.py\u001b[0m in \u001b[0;36merror_rewrite\u001b[0;34m(e, issue_type)\u001b[0m\n\u001b[1;32m    356\u001b[0m                 \u001b[0;32mraise\u001b[0m \u001b[0me\u001b[0m\u001b[0;34m\u001b[0m\u001b[0;34m\u001b[0m\u001b[0m\n\u001b[1;32m    357\u001b[0m             \u001b[0;32melse\u001b[0m\u001b[0;34m:\u001b[0m\u001b[0;34m\u001b[0m\u001b[0;34m\u001b[0m\u001b[0m\n\u001b[0;32m--> 358\u001b[0;31m                 \u001b[0mreraise\u001b[0m\u001b[0;34m(\u001b[0m\u001b[0mtype\u001b[0m\u001b[0;34m(\u001b[0m\u001b[0me\u001b[0m\u001b[0;34m)\u001b[0m\u001b[0;34m,\u001b[0m \u001b[0me\u001b[0m\u001b[0;34m,\u001b[0m \u001b[0;32mNone\u001b[0m\u001b[0;34m)\u001b[0m\u001b[0;34m\u001b[0m\u001b[0;34m\u001b[0m\u001b[0m\n\u001b[0m\u001b[1;32m    359\u001b[0m \u001b[0;34m\u001b[0m\u001b[0m\n\u001b[1;32m    360\u001b[0m         \u001b[0margtypes\u001b[0m \u001b[0;34m=\u001b[0m \u001b[0;34m[\u001b[0m\u001b[0;34m]\u001b[0m\u001b[0;34m\u001b[0m\u001b[0;34m\u001b[0m\u001b[0m\n",
      "\u001b[0;32m~/opt/anaconda3/lib/python3.8/site-packages/numba/core/utils.py\u001b[0m in \u001b[0;36mreraise\u001b[0;34m(tp, value, tb)\u001b[0m\n\u001b[1;32m     78\u001b[0m         \u001b[0mvalue\u001b[0m \u001b[0;34m=\u001b[0m \u001b[0mtp\u001b[0m\u001b[0;34m(\u001b[0m\u001b[0;34m)\u001b[0m\u001b[0;34m\u001b[0m\u001b[0;34m\u001b[0m\u001b[0m\n\u001b[1;32m     79\u001b[0m     \u001b[0;32mif\u001b[0m \u001b[0mvalue\u001b[0m\u001b[0;34m.\u001b[0m\u001b[0m__traceback__\u001b[0m \u001b[0;32mis\u001b[0m \u001b[0;32mnot\u001b[0m \u001b[0mtb\u001b[0m\u001b[0;34m:\u001b[0m\u001b[0;34m\u001b[0m\u001b[0;34m\u001b[0m\u001b[0m\n\u001b[0;32m---> 80\u001b[0;31m         \u001b[0;32mraise\u001b[0m \u001b[0mvalue\u001b[0m\u001b[0;34m.\u001b[0m\u001b[0mwith_traceback\u001b[0m\u001b[0;34m(\u001b[0m\u001b[0mtb\u001b[0m\u001b[0;34m)\u001b[0m\u001b[0;34m\u001b[0m\u001b[0;34m\u001b[0m\u001b[0m\n\u001b[0m\u001b[1;32m     81\u001b[0m     \u001b[0;32mraise\u001b[0m \u001b[0mvalue\u001b[0m\u001b[0;34m\u001b[0m\u001b[0;34m\u001b[0m\u001b[0m\n\u001b[1;32m     82\u001b[0m \u001b[0;34m\u001b[0m\u001b[0m\n",
      "\u001b[0;31mTypingError\u001b[0m: Failed in nopython mode pipeline (step: nopython frontend)\n\u001b[1m\u001b[1mNo implementation of function Function(<built-in function getitem>) found for signature:\n \n >>> getitem(int64, int64)\n \nThere are 16 candidate implementations:\n\u001b[1m   - Of which 16 did not match due to:\n   Overload of function 'getitem': File: <numerous>: Line N/A.\n     With argument(s): '(int64, int64)':\u001b[0m\n\u001b[1m    No match.\u001b[0m\n\u001b[0m\n\u001b[0m\u001b[1mDuring: typing of intrinsic-call at <ipython-input-2-afccd68eb3c5> (13)\u001b[0m\n\u001b[1m\nFile \"<ipython-input-2-afccd68eb3c5>\", line 13:\u001b[0m\n\u001b[1mdef addParallel(x, y):\n    <source elided>\n    for ii in range(len(out)):\n\u001b[1m        out[ii] = x[ii] + y[ii]\n\u001b[0m        \u001b[1m^\u001b[0m\u001b[0m\n"
     ]
    }
   ],
   "source": [
    "addBasic(1,2)\n",
    "addSimple(1,2)\n",
    "addParallel(1,2)\n",
    "\n",
    "a = np.random.randint(0,100,(1000,1))\n",
    "b = np.random.randint(0,100,(1000,1))\n",
    "\n",
    "%time _ = addBasic(a,b)\n",
    "%time _ = addSimple(a,b)\n",
    "%time _ = addParallel(a,b)"
   ]
  },
  {
   "cell_type": "code",
   "execution_count": 7,
   "id": "8a98a36a-7a6a-42b4-a1a9-0eaf19c531d2",
   "metadata": {},
   "outputs": [
    {
     "ename": "NameError",
     "evalue": "name 'vectorize' is not defined",
     "output_type": "error",
     "traceback": [
      "\u001b[1;31m---------------------------------------------------------------------------\u001b[0m",
      "\u001b[1;31mNameError\u001b[0m                                 Traceback (most recent call last)",
      "Input \u001b[1;32mIn [7]\u001b[0m, in \u001b[0;36m<cell line: 1>\u001b[1;34m()\u001b[0m\n\u001b[1;32m----> 1\u001b[0m \u001b[38;5;129m@vectorize\u001b[39m\n\u001b[0;32m      2\u001b[0m \u001b[38;5;28;01mdef\u001b[39;00m \u001b[38;5;21mfv\u001b[39m(x, y):\n\u001b[0;32m      3\u001b[0m     \u001b[38;5;28;01mreturn\u001b[39;00m x \u001b[38;5;241m+\u001b[39m y\n",
      "\u001b[1;31mNameError\u001b[0m: name 'vectorize' is not defined"
     ]
    }
   ],
   "source": []
  },
  {
   "cell_type": "code",
   "execution_count": 44,
   "id": "20e19d73-e873-49f8-a773-e56271d03293",
   "metadata": {},
   "outputs": [
    {
     "data": {
      "text/plain": [
       "array(int32, 2d, C)"
      ]
     },
     "execution_count": 44,
     "metadata": {},
     "output_type": "execute_result"
    }
   ],
   "source": [
    "x = np.arange(100).reshape(10, 10)\n",
    "numba.typeof(x)"
   ]
  },
  {
   "cell_type": "code",
   "execution_count": null,
   "id": "d114d32e-793f-45c7-ad5f-4bd5696e1d21",
   "metadata": {},
   "outputs": [
    {
     "name": "stdout",
     "output_type": "stream",
     "text": [
      "11.8 ms ± 241 µs per loop (mean ± std. dev. of 7 runs, 100 loops each)\n"
     ]
    }
   ],
   "source": [
    "def matMult(A,B):\n",
    "    return A @ B\n",
    "\n",
    "N = 1000\n",
    "A = np.ascontiguousarray(np.random.normal(0,1,(N,N)))\n",
    "B = np.ascontiguousarray(np.random.normal(0,1,(N,N)))\n",
    "\n",
    "@njit(float64[:,:](numba.typeof(A),numba.typeof(A)))\n",
    "def fastMatMult(A,B):\n",
    "    return A @ B\n",
    "\n",
    "%timeit matMult(A,B)\n",
    "%timeit fastMatMult(A,B)"
   ]
  },
  {
   "cell_type": "code",
   "execution_count": null,
   "id": "ac90f6d5-4720-4762-bcd5-83591008c227",
   "metadata": {},
   "outputs": [],
   "source": [
    "@njit((float64, float32))\n",
    "def ppca(data, minVariance=0.95):\n",
    "    # probabilistic ppca - using description in Methods Section 1.7 of the following: https://www.biorxiv.org/content/10.1101/418939v2.full.pdf\n",
    "    # data is a (observations x dimensions) array \n",
    "    # default is to set q = to the smallest number of dimensions that exceed some percentage of the variance (default 95%)\n",
    "    \n",
    "    # if data.ndim != 2:\n",
    "    #     raise ValueError(\"data must be a matrix\")\n",
    "        \n",
    "    # Return ML estimate of mean\n",
    "    uML = np.mean(data,axis=0)\n",
    "    cdata = data - uML # use centered data for computations\n",
    "    \n",
    "    # Pick method based on computational speed (logic inherited from Low/Lewallen, haven't tested yet!)\n",
    "    N,D = data.shape\n",
    "    if N > D:\n",
    "        # do eigendecomposition\n",
    "        covData = np.cov(cdata.T, bias=True)\n",
    "        w,v = scipy.linalg.eigh(covData)\n",
    "        w[w<=np.finfo(float).eps]=np.finfo(float).eps # don't allow weird tiny numbers (or negatives, it's a symmetric positive semidefinite matrix)\n",
    "        idx = np.argsort(-w) # return index of descending sort\n",
    "        w = w[idx] # sort eigenvalues\n",
    "        v = v[:,idx] # sort eigenvectors\n",
    "        s = np.sqrt(N*w) # singular values\n",
    "        \n",
    "    else:\n",
    "        # do svd instead\n",
    "        _,s,v = np.linalg.svd(cdata)\n",
    "        v = v.T\n",
    "        w = s**2 / N # eigenvalues\n",
    "    \n",
    "    varExplained = np.cumsum(w / np.sum(w))\n",
    "    q = int(np.where(varExplained >= minVariance)[0][0])\n",
    "    \n",
    "    # Return ML estimate of noise variance\n",
    "    nvML = np.mean(w[q:]) \n",
    "    \n",
    "    # Keep q eigenvalues & eigenvectors\n",
    "    w = w[:q]\n",
    "    v = v[:,:q]\n",
    "    \n",
    "    # Compute ML estimate of covariance\n",
    "    covML = nvML*np.identity(D) + (v @ (np.diag(w) - nvML*np.identity(q)) @ v.T)\n",
    "    invCovML = np.linalg.inv(covML)\n",
    "    \n",
    "    # Return likelihood\n",
    "    likelihood = -N*D/2*np.log(2*np.pi) - N/2*np.log(np.linalg.det(covML)) - (1/2)*np.sum(np.array([cdata[n,:] @ invCovML @ cdata[n,:].T for n in range(N)]))\n",
    "    \n",
    "    return likelihood,uML,covML,nvML,w,v"
   ]
  }
 ],
 "metadata": {
  "kernelspec": {
   "display_name": "Python 3",
   "language": "python",
   "name": "python3"
  },
  "language_info": {
   "codemirror_mode": {
    "name": "ipython",
    "version": 3
   },
   "file_extension": ".py",
   "mimetype": "text/x-python",
   "name": "python",
   "nbconvert_exporter": "python",
   "pygments_lexer": "ipython3",
   "version": "3.8.3"
  }
 },
 "nbformat": 4,
 "nbformat_minor": 5
}
